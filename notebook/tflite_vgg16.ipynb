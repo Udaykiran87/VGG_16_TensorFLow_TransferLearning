{
 "cells": [
  {
   "cell_type": "code",
   "execution_count": 1,
   "id": "80250772",
   "metadata": {},
   "outputs": [],
   "source": [
    "import tensorflow as tf\n",
    "import numpy as np\n",
    "from pathlib import Path\n",
    "import os"
   ]
  },
  {
   "cell_type": "code",
   "execution_count": 2,
   "id": "401c1a02",
   "metadata": {},
   "outputs": [],
   "source": [
    "path_of_saved_model = Path(\"./trained_model.h5\")\n",
    "model = tf.keras.models.load_model(path_of_saved_model)"
   ]
  },
  {
   "cell_type": "code",
   "execution_count": 3,
   "id": "79c8431d",
   "metadata": {},
   "outputs": [
    {
     "data": {
      "text/plain": [
       "WindowsPath('trained_model.h5')"
      ]
     },
     "execution_count": 3,
     "metadata": {},
     "output_type": "execute_result"
    }
   ],
   "source": [
    "path_of_saved_model"
   ]
  },
  {
   "cell_type": "code",
   "execution_count": 4,
   "id": "4b1e500d",
   "metadata": {},
   "outputs": [],
   "source": [
    "converter = tf.lite.TFLiteConverter.from_keras_model(model)"
   ]
  },
  {
   "cell_type": "code",
   "execution_count": 5,
   "id": "49624d6b",
   "metadata": {},
   "outputs": [
    {
     "name": "stdout",
     "output_type": "stream",
     "text": [
      "INFO:tensorflow:Assets written to: C:\\Users\\91776\\AppData\\Local\\Temp\\tmpxaej1la1\\assets\n"
     ]
    },
    {
     "name": "stderr",
     "output_type": "stream",
     "text": [
      "WARNING:absl:Buffer deduplication procedure will be skipped when flatbuffer library is not properly loaded\n"
     ]
    }
   ],
   "source": [
    "tflite_model = converter.convert()"
   ]
  },
  {
   "cell_type": "code",
   "execution_count": 6,
   "id": "f21c8489",
   "metadata": {},
   "outputs": [],
   "source": [
    "tflite_model_dir = Path(\"./tflite_model_dir\")\n",
    "tflite_model_dir.mkdir(exist_ok=True, parents=True)"
   ]
  },
  {
   "cell_type": "code",
   "execution_count": 9,
   "id": "a28bd809",
   "metadata": {},
   "outputs": [
    {
     "data": {
      "text/plain": [
       "WindowsPath('tflite_model_dir/vgg16_model.tflite')"
      ]
     },
     "execution_count": 9,
     "metadata": {},
     "output_type": "execute_result"
    }
   ],
   "source": [
    "tflite_model_dir/\"vgg16_model.tflite\""
   ]
  },
  {
   "cell_type": "code",
   "execution_count": 7,
   "id": "ca2defdb",
   "metadata": {},
   "outputs": [
    {
     "data": {
      "text/plain": [
       "59067384"
      ]
     },
     "execution_count": 7,
     "metadata": {},
     "output_type": "execute_result"
    }
   ],
   "source": [
    "tflite_model_file = tflite_model_dir/\"vgg16_model.tflite\"\n",
    "tflite_model_file.write_bytes(tflite_model)"
   ]
  },
  {
   "cell_type": "code",
   "execution_count": 10,
   "id": "ba7a159f",
   "metadata": {},
   "outputs": [
    {
     "name": "stdout",
     "output_type": "stream",
     "text": [
      "INFO:tensorflow:Assets written to: C:\\Users\\91776\\AppData\\Local\\Temp\\tmprpi6kdm1\\assets\n"
     ]
    },
    {
     "name": "stderr",
     "output_type": "stream",
     "text": [
      "INFO:tensorflow:Assets written to: C:\\Users\\91776\\AppData\\Local\\Temp\\tmprpi6kdm1\\assets\n",
      "WARNING:absl:Buffer deduplication procedure will be skipped when flatbuffer library is not properly loaded\n"
     ]
    },
    {
     "data": {
      "text/plain": [
       "14870960"
      ]
     },
     "execution_count": 10,
     "metadata": {},
     "output_type": "execute_result"
    }
   ],
   "source": [
    "converter.optimizations = [tf.lite.Optimize.DEFAULT]\n",
    "tflite_quant_model = converter.convert()\n",
    "\n",
    "tflite_model_quant_file = tflite_model_dir/\"vgg16_model_quant.tflite\"\n",
    "tflite_model_quant_file.write_bytes(tflite_quant_model)"
   ]
  },
  {
   "cell_type": "code",
   "execution_count": 11,
   "id": "2a252601",
   "metadata": {},
   "outputs": [
    {
     "data": {
      "text/plain": [
       "0.25176263096398516"
      ]
     },
     "execution_count": 11,
     "metadata": {},
     "output_type": "execute_result"
    }
   ],
   "source": [
    "14870960/59067384"
   ]
  },
  {
   "cell_type": "code",
   "execution_count": 12,
   "id": "01877ae8",
   "metadata": {},
   "outputs": [],
   "source": [
    "interpreter = tf.lite.Interpreter(model_path=str(tflite_model_file))\n",
    "interpreter.allocate_tensors()"
   ]
  },
  {
   "cell_type": "code",
   "execution_count": 13,
   "id": "36ca7bcb",
   "metadata": {},
   "outputs": [],
   "source": [
    "interpreter_quant = tf.lite.Interpreter(model_path=str(tflite_model_quant_file))\n",
    "interpreter_quant.allocate_tensors()"
   ]
  },
  {
   "cell_type": "code",
   "execution_count": 14,
   "id": "645ab480",
   "metadata": {},
   "outputs": [],
   "source": [
    "import matplotlib.pyplot as plt\n",
    "test_img = plt.imread(\"./data/unzip_data_dir/hymenoptera_data/val/ants/800px-Meat_eater_ant_qeen_excavating_hole.jpg\")"
   ]
  },
  {
   "cell_type": "code",
   "execution_count": 15,
   "id": "c759984a",
   "metadata": {},
   "outputs": [
    {
     "data": {
      "text/plain": [
       "(534, 800, 3)"
      ]
     },
     "execution_count": 15,
     "metadata": {},
     "output_type": "execute_result"
    }
   ],
   "source": [
    "test_img.shape"
   ]
  },
  {
   "cell_type": "code",
   "execution_count": 16,
   "id": "2bdc7fab",
   "metadata": {},
   "outputs": [
    {
     "data": {
      "text/plain": [
       "array([  1, 224, 224,   3])"
      ]
     },
     "execution_count": 16,
     "metadata": {},
     "output_type": "execute_result"
    }
   ],
   "source": [
    "interpreter.get_input_details()[0][\"shape\"]"
   ]
  },
  {
   "cell_type": "code",
   "execution_count": 17,
   "id": "3093d6ef",
   "metadata": {},
   "outputs": [],
   "source": [
    "resized_img = tf.image.resize(test_img, (224, 224))"
   ]
  },
  {
   "cell_type": "code",
   "execution_count": 18,
   "id": "a824e2bb",
   "metadata": {},
   "outputs": [],
   "source": [
    "input_data = tf.expand_dims(resized_img, axis=0)"
   ]
  },
  {
   "cell_type": "code",
   "execution_count": 19,
   "id": "0617174a",
   "metadata": {},
   "outputs": [
    {
     "data": {
      "text/plain": [
       "0"
      ]
     },
     "execution_count": 19,
     "metadata": {},
     "output_type": "execute_result"
    }
   ],
   "source": [
    "interpreter.get_input_details()[0][\"index\"]"
   ]
  },
  {
   "cell_type": "code",
   "execution_count": 20,
   "id": "5bb80a45",
   "metadata": {},
   "outputs": [
    {
     "data": {
      "text/plain": [
       "50"
      ]
     },
     "execution_count": 20,
     "metadata": {},
     "output_type": "execute_result"
    }
   ],
   "source": [
    "interpreter.get_output_details()[0][\"index\"]"
   ]
  },
  {
   "cell_type": "code",
   "execution_count": 21,
   "id": "cb63d425",
   "metadata": {},
   "outputs": [],
   "source": [
    "input_index = interpreter.get_input_details()[0][\"index\"]\n",
    "output_index = interpreter.get_output_details()[0][\"index\"]"
   ]
  },
  {
   "cell_type": "code",
   "execution_count": 22,
   "id": "706a6e2c",
   "metadata": {},
   "outputs": [],
   "source": [
    "interpreter.set_tensor(input_index, input_data)\n",
    "interpreter.invoke()\n",
    "pred = interpreter.get_tensor(output_index)"
   ]
  },
  {
   "cell_type": "code",
   "execution_count": 23,
   "id": "6efd5c92",
   "metadata": {},
   "outputs": [
    {
     "data": {
      "text/plain": [
       "array([[0., 1.]], dtype=float32)"
      ]
     },
     "execution_count": 23,
     "metadata": {},
     "output_type": "execute_result"
    }
   ],
   "source": [
    "pred"
   ]
  },
  {
   "cell_type": "code",
   "execution_count": 24,
   "id": "0a3a1d7e",
   "metadata": {},
   "outputs": [],
   "source": [
    "label_map = {0: 'ants', 1: 'bees'}"
   ]
  },
  {
   "cell_type": "code",
   "execution_count": 25,
   "id": "5c0e80eb",
   "metadata": {},
   "outputs": [
    {
     "data": {
      "text/plain": [
       "'bees'"
      ]
     },
     "execution_count": 25,
     "metadata": {},
     "output_type": "execute_result"
    }
   ],
   "source": [
    "argmax = tf.argmax(pred[0]).numpy()\n",
    "label_map[argmax]"
   ]
  },
  {
   "cell_type": "code",
   "execution_count": 26,
   "id": "8d41f027",
   "metadata": {},
   "outputs": [
    {
     "data": {
      "text/plain": [
       "'bees'"
      ]
     },
     "execution_count": 26,
     "metadata": {},
     "output_type": "execute_result"
    }
   ],
   "source": [
    "input_index = interpreter_quant.get_input_details()[0][\"index\"]\n",
    "output_index = interpreter_quant.get_output_details()[0][\"index\"]\n",
    "\n",
    "interpreter_quant.set_tensor(input_index, input_data)\n",
    "interpreter_quant.invoke()\n",
    "pred = interpreter_quant.get_tensor(output_index)\n",
    "\n",
    "argmax = tf.argmax(pred[0]).numpy()\n",
    "label_map[argmax]"
   ]
  },
  {
   "cell_type": "code",
   "execution_count": null,
   "id": "876287bb",
   "metadata": {},
   "outputs": [],
   "source": []
  }
 ],
 "metadata": {
  "kernelspec": {
   "display_name": "Python 3 (ipykernel)",
   "language": "python",
   "name": "python3"
  },
  "language_info": {
   "codemirror_mode": {
    "name": "ipython",
    "version": 3
   },
   "file_extension": ".py",
   "mimetype": "text/x-python",
   "name": "python",
   "nbconvert_exporter": "python",
   "pygments_lexer": "ipython3",
   "version": "3.7.13"
  }
 },
 "nbformat": 4,
 "nbformat_minor": 5
}
